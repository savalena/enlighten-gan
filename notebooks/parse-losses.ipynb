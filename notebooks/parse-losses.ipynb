{
 "cells": [
  {
   "cell_type": "code",
   "execution_count": 1,
   "id": "346159b6-07a6-4a2b-81c5-17726cae3074",
   "metadata": {},
   "outputs": [],
   "source": [
    "g_a = []\n",
    "vgg = []\n",
    "d_a = []\n",
    "d_p = []"
   ]
  },
  {
   "cell_type": "code",
   "execution_count": 2,
   "id": "611cfc02-c123-4b9e-8dce-a61ff895cac3",
   "metadata": {
    "tags": []
   },
   "outputs": [],
   "source": [
    "file_path = 'loss/loss_log.txt'\n",
    "with open(file_path) as file:\n",
    "    for line in file:\n",
    "        if line[:2] == '(e':\n",
    "            line_splitted = line.split(' ')\n",
    "            # print(line_splitted)\n",
    "            g_a.append(float(line_splitted[line_splitted.index('G_A:') + 1]))\n",
    "            vgg.append(float(line_splitted[line_splitted.index('vgg:') + 1]))\n",
    "            d_a.append(float(line_splitted[line_splitted.index('D_A:') + 1]))\n",
    "            d_p.append(float(line_splitted[line_splitted.index('D_P:') + 1]))\n",
    "            # epoch.append(float(line_splitted[line_splitted.index('(epoch:') + 1]))"
   ]
  },
  {
   "cell_type": "code",
   "execution_count": 3,
   "id": "30ee09bb-8bf7-4132-93ce-c17f64fcfa90",
   "metadata": {
    "tags": []
   },
   "outputs": [],
   "source": [
    "import numpy as np\n",
    "def running_window(l):\n",
    "    new_list = []\n",
    "    n=20\n",
    "    ret = np.cumsum(l, dtype=float)\n",
    "    ret[n:] = ret[n:] - ret[:-n]\n",
    "    return ret[n - 1:] / n\n",
    "    \n",
    "g_a_s = running_window(g_a)\n",
    "vgg_s = running_window(vgg)\n",
    "d_a_s = running_window(d_a)\n",
    "d_p_s = running_window(d_p)"
   ]
  },
  {
   "cell_type": "code",
   "execution_count": 4,
   "id": "90c5ffcf-762c-4558-84bb-aea0382fd0e0",
   "metadata": {},
   "outputs": [],
   "source": [
    "import matplotlib.pyplot as plt"
   ]
  },
  {
   "cell_type": "code",
   "execution_count": 5,
   "id": "e08af005-a202-466a-9587-e59876d60e69",
   "metadata": {},
   "outputs": [
    {
     "data": {
      "text/plain": [
       "<matplotlib.legend.Legend at 0x7f78462db550>"
      ]
     },
     "execution_count": 5,
     "metadata": {},
     "output_type": "execute_result"
    },
    {
     "data": {
      "image/png": "[encoded data removed]",
      "text/plain": [
       "<Figure size 432x288 with 1 Axes>"
      ]
     },
     "metadata": {
      "needs_background": "light"
     },
     "output_type": "display_data"
    }
   ],
   "source": [
    "fig, ax = plt.subplots()\n",
    "\n",
    "# ax.plot(g_a)\n",
    "ax.plot(g_a_s)\n",
    "ax.plot(d_a_s)\n",
    "ax.plot(d_p_s)\n",
    "ax.plot(vgg_s)\n",
    "\n",
    "ax.legend(['G_A', 'D_A', 'D_P', 'vgg'])"
   ]
  },
  {
   "cell_type": "code",
   "execution_count": 27,
   "id": "3660e8f3-47c0-452f-8bd4-aea8b34090de",
   "metadata": {},
   "outputs": [
    {
     "name": "stdout",
     "output_type": "stream",
     "text": [
      "Generator start loss:  1.69\n",
      "Generator end loss:  1.43\n",
      "Generator max loss:  1.69\n",
      "Generator min loss:  1.1\n"
     ]
    }
   ],
   "source": [
    "print('Generator start loss: ', round(g_a_s[0], 2))\n",
    "print('Generator end loss: ', round(g_a_s[-1],2))\n",
    "print('Generator max loss: ', round(g_a_s.max(), 2))\n",
    "print('Generator min loss: ', round(g_a_s.min(), 2))"
   ]
  },
  {
   "cell_type": "code",
   "execution_count": 24,
   "id": "2ed5fdda-d80a-48cc-a9b1-b300059d9620",
   "metadata": {},
   "outputs": [
    {
     "name": "stdout",
     "output_type": "stream",
     "text": [
      "Global D start loss:  0.29\n",
      "Global D end loss:  0.3\n",
      "Global D max loss:  0.39\n"
     ]
    }
   ],
   "source": [
    "print('Global D start loss: ', round(d_a_s[0], 2))\n",
    "print('Global D end loss: ', round(d_a_s[-1], 2))\n",
    "print('Global D max loss: ', round(d_a_s.max(), 2))"
   ]
  },
  {
   "cell_type": "code",
   "execution_count": 25,
   "id": "5d602199-9d86-41cd-9545-743540a441cb",
   "metadata": {},
   "outputs": [
    {
     "name": "stdout",
     "output_type": "stream",
     "text": [
      "Local D start loss:  0.12\n",
      "Local D end loss:  0.22\n",
      "Local D max loss:  0.24\n"
     ]
    }
   ],
   "source": [
    "print('Local D start loss: ', round(d_p_s[0], 2))\n",
    "print('Local D end loss: ', round(d_p_s[-1], 2))\n",
    "print('Local D max loss: ', round(d_p_s.max(), 2))"
   ]
  },
  {
   "cell_type": "code",
   "execution_count": 26,
   "id": "62b3691c-7b14-4e3c-90d3-e6c2a0d5ac95",
   "metadata": {},
   "outputs": [
    {
     "name": "stdout",
     "output_type": "stream",
     "text": [
      "VGG start loss:  0.33\n",
      "VGG D end loss:  0.43\n",
      "VGG max loss:  0.51\n"
     ]
    }
   ],
   "source": [
    "print('VGG start loss: ', round(vgg_s[0], 2))\n",
    "print('VGG D end loss: ', round(vgg_s[-1],2))\n",
    "print('VGG max loss: ', round(vgg_s.max(), 2))"
   ]
  },
  {
   "cell_type": "code",
   "execution_count": null,
   "id": "076b5875-7618-45d0-92d2-7de8de56b02f",
   "metadata": {},
   "outputs": [],
   "source": []
  }
 ],
 "metadata": {
  "kernelspec": {
   "display_name": "Python 3 (ipykernel)",
   "language": "python",
   "name": "python3"
  },
  "language_info": {
   "codemirror_mode": {
    "name": "ipython",
    "version": 3
   },
   "file_extension": ".py",
   "mimetype": "text/x-python",
   "name": "python",
   "nbconvert_exporter": "python",
   "pygments_lexer": "ipython3",
   "version": "3.8.12"
  }
 },
 "nbformat": 4,
 "nbformat_minor": 5
}
