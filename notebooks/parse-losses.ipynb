{
 "cells": [
  {
   "cell_type": "code",
   "execution_count": 11,
   "id": "346159b6-07a6-4a2b-81c5-17726cae3074",
   "metadata": {},
   "outputs": [],
   "source": [
    "g_a = []\n",
    "vgg = []\n",
    "d_a = []\n",
    "d_p = []"
   ]
  },
  {
   "cell_type": "code",
   "execution_count": 13,
   "id": "611cfc02-c123-4b9e-8dce-a61ff895cac3",
   "metadata": {
    "collapsed": true,
    "jupyter": {
     "outputs_hidden": true
    },
    "tags": []
   },
   "outputs": [
    {
     "name": "stdout",
     "output_type": "stream",
     "text": [
      "['(epoch:', '1,', 'iters:', '100,', 'time:', '0.301)', 'D_A:', '0.285', 'G_A:', '1.559', 'vgg:', '0.408', 'D_P:', '0.034', '\\n']\n",
      "['(epoch:', '1,', 'iters:', '200,', 'time:', '0.113)', 'D_A:', '0.303', 'G_A:', '1.833', 'vgg:', '1.055', 'D_P:', '0.049', '\\n']\n",
      "['(epoch:', '1,', 'iters:', '400,', 'time:', '0.114)', 'D_A:', '0.275', 'G_A:', '1.868', 'vgg:', '0.578', 'D_P:', '0.042', '\\n']\n",
      "['(epoch:', '1,', 'iters:', '600,', 'time:', '0.168)', 'D_A:', '0.278', 'G_A:', '1.568', 'vgg:', '0.326', 'D_P:', '0.126', '\\n']\n",
      "['(epoch:', '1,', 'iters:', '800,', 'time:', '0.114)', 'D_A:', '0.287', 'G_A:', '1.715', 'vgg:', '0.277', 'D_P:', '0.144', '\\n']\n",
      "['(epoch:', '1,', 'iters:', '1000,', 'time:', '0.114)', 'D_A:', '0.273', 'G_A:', '1.713', 'vgg:', '0.168', 'D_P:', '0.095', '\\n']\n",
      "['(epoch:', '2,', 'iters:', '184,', 'time:', '0.175)', 'D_A:', '0.278', 'G_A:', '1.849', 'vgg:', '0.301', 'D_P:', '0.057', '\\n']\n",
      "['(epoch:', '2,', 'iters:', '384,', 'time:', '0.114)', 'D_A:', '0.270', 'G_A:', '1.976', 'vgg:', '0.317', 'D_P:', '0.089', '\\n']\n",
      "['(epoch:', '2,', 'iters:', '584,', 'time:', '0.114)', 'D_A:', '0.290', 'G_A:', '1.848', 'vgg:', '0.145', 'D_P:', '0.134', '\\n']\n",
      "['(epoch:', '2,', 'iters:', '784,', 'time:', '0.169)', 'D_A:', '0.308', 'G_A:', '1.512', 'vgg:', '0.101', 'D_P:', '0.149', '\\n']\n",
      "['(epoch:', '1,', 'iters:', '300,', 'time:', '0.152)', 'D_A:', '0.282', 'G_A:', '1.399', 'vgg:', '0.937', 'D_P:', '0.134', '\\n']\n",
      "['(epoch:', '2,', 'iters:', '84,', 'time:', '0.109)', 'D_A:', '0.287', 'G_A:', '1.403', 'vgg:', '0.147', 'D_P:', '0.154', '\\n']\n",
      "['(epoch:', '3,', 'iters:', '168,', 'time:', '0.109)', 'D_A:', '0.289', 'G_A:', '1.748', 'vgg:', '0.237', 'D_P:', '0.108', '\\n']\n",
      "['(epoch:', '4,', 'iters:', '252,', 'time:', '0.149)', 'D_A:', '0.266', 'G_A:', '1.643', 'vgg:', '0.225', 'D_P:', '0.141', '\\n']\n",
      "['(epoch:', '5,', 'iters:', '336,', 'time:', '0.109)', 'D_A:', '0.266', 'G_A:', '1.889', 'vgg:', '0.183', 'D_P:', '0.105', '\\n']\n",
      "['(epoch:', '6,', 'iters:', '420,', 'time:', '0.108)', 'D_A:', '0.281', 'G_A:', '1.729', 'vgg:', '0.165', 'D_P:', '0.139', '\\n']\n",
      "['(epoch:', '7,', 'iters:', '504,', 'time:', '0.147)', 'D_A:', '0.284', 'G_A:', '1.937', 'vgg:', '0.267', 'D_P:', '0.119', '\\n']\n",
      "['(epoch:', '8,', 'iters:', '588,', 'time:', '0.108)', 'D_A:', '0.309', 'G_A:', '1.672', 'vgg:', '0.247', 'D_P:', '0.184', '\\n']\n",
      "['(epoch:', '9,', 'iters:', '672,', 'time:', '0.109)', 'D_A:', '0.283', 'G_A:', '1.699', 'vgg:', '0.213', 'D_P:', '0.142', '\\n']\n",
      "['(epoch:', '10,', 'iters:', '756,', 'time:', '0.145)', 'D_A:', '0.418', 'G_A:', '1.160', 'vgg:', '0.330', 'D_P:', '0.231', '\\n']\n",
      "['(epoch:', '11,', 'iters:', '840,', 'time:', '0.109)', 'D_A:', '0.341', 'G_A:', '1.278', 'vgg:', '0.268', 'D_P:', '0.183', '\\n']\n",
      "['(epoch:', '12,', 'iters:', '924,', 'time:', '0.109)', 'D_A:', '0.365', 'G_A:', '1.178', 'vgg:', '0.666', 'D_P:', '0.216', '\\n']\n",
      "['(epoch:', '13,', 'iters:', '1008,', 'time:', '0.141)', 'D_A:', '0.394', 'G_A:', '1.042', 'vgg:', '0.479', 'D_P:', '0.219', '\\n']\n",
      "['(epoch:', '14,', 'iters:', '1092,', 'time:', '0.110)', 'D_A:', '0.402', 'G_A:', '0.974', 'vgg:', '0.364', 'D_P:', '0.241', '\\n']\n",
      "['(epoch:', '16,', 'iters:', '160,', 'time:', '0.109)', 'D_A:', '0.387', 'G_A:', '1.123', 'vgg:', '0.482', 'D_P:', '0.228', '\\n']\n",
      "['(epoch:', '17,', 'iters:', '244,', 'time:', '0.150)', 'D_A:', '0.418', 'G_A:', '1.063', 'vgg:', '0.562', 'D_P:', '0.239', '\\n']\n",
      "['(epoch:', '18,', 'iters:', '328,', 'time:', '0.109)', 'D_A:', '0.337', 'G_A:', '1.374', 'vgg:', '0.656', 'D_P:', '0.234', '\\n']\n",
      "['(epoch:', '19,', 'iters:', '412,', 'time:', '0.109)', 'D_A:', '0.408', 'G_A:', '1.061', 'vgg:', '0.772', 'D_P:', '0.247', '\\n']\n",
      "['(epoch:', '20,', 'iters:', '496,', 'time:', '0.145)', 'D_A:', '0.376', 'G_A:', '1.119', 'vgg:', '0.454', 'D_P:', '0.227', '\\n']\n",
      "['(epoch:', '21,', 'iters:', '580,', 'time:', '0.108)', 'D_A:', '0.423', 'G_A:', '1.079', 'vgg:', '0.481', 'D_P:', '0.217', '\\n']\n",
      "['(epoch:', '22,', 'iters:', '664,', 'time:', '0.109)', 'D_A:', '0.391', 'G_A:', '1.038', 'vgg:', '0.454', 'D_P:', '0.234', '\\n']\n",
      "['(epoch:', '23,', 'iters:', '748,', 'time:', '0.152)', 'D_A:', '0.425', 'G_A:', '1.026', 'vgg:', '0.533', 'D_P:', '0.245', '\\n']\n",
      "['(epoch:', '24,', 'iters:', '832,', 'time:', '0.108)', 'D_A:', '0.361', 'G_A:', '1.116', 'vgg:', '0.479', 'D_P:', '0.246', '\\n']\n",
      "['(epoch:', '25,', 'iters:', '916,', 'time:', '0.109)', 'D_A:', '0.421', 'G_A:', '0.958', 'vgg:', '0.465', 'D_P:', '0.248', '\\n']\n",
      "['(epoch:', '26,', 'iters:', '1000,', 'time:', '0.152)', 'D_A:', '0.316', 'G_A:', '1.341', 'vgg:', '0.398', 'D_P:', '0.218', '\\n']\n",
      "['(epoch:', '27,', 'iters:', '1084,', 'time:', '0.109)', 'D_A:', '0.393', 'G_A:', '0.958', 'vgg:', '0.527', 'D_P:', '0.246', '\\n']\n",
      "['(epoch:', '28,', 'iters:', '1168,', 'time:', '0.109)', 'D_A:', '0.456', 'G_A:', '0.891', 'vgg:', '0.590', 'D_P:', '0.264', '\\n']\n",
      "['(epoch:', '30,', 'iters:', '236,', 'time:', '0.151)', 'D_A:', '0.405', 'G_A:', '1.158', 'vgg:', '0.481', 'D_P:', '0.250', '\\n']\n",
      "['(epoch:', '31,', 'iters:', '320,', 'time:', '0.109)', 'D_A:', '0.387', 'G_A:', '1.139', 'vgg:', '0.439', 'D_P:', '0.235', '\\n']\n",
      "['(epoch:', '32,', 'iters:', '404,', 'time:', '0.108)', 'D_A:', '0.360', 'G_A:', '1.178', 'vgg:', '0.514', 'D_P:', '0.244', '\\n']\n",
      "['(epoch:', '33,', 'iters:', '488,', 'time:', '0.152)', 'D_A:', '0.339', 'G_A:', '1.294', 'vgg:', '0.482', 'D_P:', '0.242', '\\n']\n",
      "['(epoch:', '34,', 'iters:', '572,', 'time:', '0.110)', 'D_A:', '0.376', 'G_A:', '1.079', 'vgg:', '0.352', 'D_P:', '0.249', '\\n']\n",
      "['(epoch:', '35,', 'iters:', '656,', 'time:', '0.109)', 'D_A:', '0.329', 'G_A:', '1.298', 'vgg:', '0.308', 'D_P:', '0.200', '\\n']\n",
      "['(epoch:', '36,', 'iters:', '740,', 'time:', '0.154)', 'D_A:', '0.343', 'G_A:', '1.248', 'vgg:', '0.450', 'D_P:', '0.247', '\\n']\n",
      "['(epoch:', '37,', 'iters:', '824,', 'time:', '0.109)', 'D_A:', '0.434', 'G_A:', '0.976', 'vgg:', '0.391', 'D_P:', '0.240', '\\n']\n",
      "['(epoch:', '38,', 'iters:', '908,', 'time:', '0.109)', 'D_A:', '0.408', 'G_A:', '1.079', 'vgg:', '0.767', 'D_P:', '0.241', '\\n']\n",
      "['(epoch:', '39,', 'iters:', '992,', 'time:', '0.144)', 'D_A:', '0.341', 'G_A:', '1.263', 'vgg:', '0.704', 'D_P:', '0.224', '\\n']\n",
      "['(epoch:', '40,', 'iters:', '1076,', 'time:', '0.109)', 'D_A:', '0.411', 'G_A:', '1.147', 'vgg:', '0.410', 'D_P:', '0.235', '\\n']\n",
      "['(epoch:', '41,', 'iters:', '1160,', 'time:', '0.109)', 'D_A:', '0.325', 'G_A:', '1.259', 'vgg:', '0.420', 'D_P:', '0.227', '\\n']\n",
      "['(epoch:', '42,', 'iters:', '1244,', 'time:', '0.147)', 'D_A:', '0.333', 'G_A:', '1.235', 'vgg:', '0.415', 'D_P:', '0.224', '\\n']\n",
      "['(epoch:', '44,', 'iters:', '312,', 'time:', '0.108)', 'D_A:', '0.369', 'G_A:', '1.049', 'vgg:', '0.438', 'D_P:', '0.244', '\\n']\n",
      "['(epoch:', '45,', 'iters:', '396,', 'time:', '0.109)', 'D_A:', '0.372', 'G_A:', '1.188', 'vgg:', '0.404', 'D_P:', '0.226', '\\n']\n",
      "['(epoch:', '46,', 'iters:', '480,', 'time:', '0.151)', 'D_A:', '0.403', 'G_A:', '1.069', 'vgg:', '0.494', 'D_P:', '0.235', '\\n']\n",
      "['(epoch:', '47,', 'iters:', '564,', 'time:', '0.109)', 'D_A:', '0.394', 'G_A:', '1.147', 'vgg:', '0.473', 'D_P:', '0.232', '\\n']\n",
      "['(epoch:', '48,', 'iters:', '648,', 'time:', '0.109)', 'D_A:', '0.373', 'G_A:', '1.178', 'vgg:', '0.578', 'D_P:', '0.260', '\\n']\n",
      "['(epoch:', '49,', 'iters:', '732,', 'time:', '0.148)', 'D_A:', '0.383', 'G_A:', '1.206', 'vgg:', '0.384', 'D_P:', '0.239', '\\n']\n",
      "['(epoch:', '50,', 'iters:', '816,', 'time:', '0.109)', 'D_A:', '0.394', 'G_A:', '1.065', 'vgg:', '0.439', 'D_P:', '0.251', '\\n']\n",
      "['(epoch:', '51,', 'iters:', '900,', 'time:', '0.109)', 'D_A:', '0.378', 'G_A:', '1.121', 'vgg:', '0.538', 'D_P:', '0.224', '\\n']\n",
      "['(epoch:', '52,', 'iters:', '984,', 'time:', '0.153)', 'D_A:', '0.333', 'G_A:', '1.210', 'vgg:', '0.451', 'D_P:', '0.222', '\\n']\n",
      "['(epoch:', '53,', 'iters:', '1068,', 'time:', '0.109)', 'D_A:', '0.346', 'G_A:', '1.189', 'vgg:', '0.400', 'D_P:', '0.238', '\\n']\n",
      "['(epoch:', '54,', 'iters:', '1152,', 'time:', '0.109)', 'D_A:', '0.368', 'G_A:', '1.169', 'vgg:', '0.614', 'D_P:', '0.220', '\\n']\n",
      "['(epoch:', '55,', 'iters:', '1236,', 'time:', '0.150)', 'D_A:', '0.462', 'G_A:', '0.994', 'vgg:', '0.675', 'D_P:', '0.229', '\\n']\n",
      "['(epoch:', '56,', 'iters:', '1320,', 'time:', '0.109)', 'D_A:', '0.371', 'G_A:', '1.283', 'vgg:', '0.352', 'D_P:', '0.223', '\\n']\n",
      "['(epoch:', '57,', 'iters:', '1404,', 'time:', '0.109)', 'D_A:', '0.323', 'G_A:', '1.305', 'vgg:', '0.524', 'D_P:', '0.227', '\\n']\n",
      "['(epoch:', '59,', 'iters:', '472,', 'time:', '0.149)', 'D_A:', '0.372', 'G_A:', '1.132', 'vgg:', '0.389', 'D_P:', '0.244', '\\n']\n",
      "['(epoch:', '60,', 'iters:', '556,', 'time:', '0.109)', 'D_A:', '0.358', 'G_A:', '1.196', 'vgg:', '0.479', 'D_P:', '0.228', '\\n']\n",
      "['(epoch:', '61,', 'iters:', '640,', 'time:', '0.108)', 'D_A:', '0.323', 'G_A:', '1.289', 'vgg:', '0.494', 'D_P:', '0.242', '\\n']\n",
      "['(epoch:', '62,', 'iters:', '724,', 'time:', '0.153)', 'D_A:', '0.430', 'G_A:', '1.124', 'vgg:', '0.662', 'D_P:', '0.249', '\\n']\n",
      "['(epoch:', '63,', 'iters:', '808,', 'time:', '0.108)', 'D_A:', '0.372', 'G_A:', '1.370', 'vgg:', '0.479', 'D_P:', '0.229', '\\n']\n",
      "['(epoch:', '64,', 'iters:', '892,', 'time:', '0.109)', 'D_A:', '0.457', 'G_A:', '1.013', 'vgg:', '0.596', 'D_P:', '0.253', '\\n']\n",
      "['(epoch:', '65,', 'iters:', '976,', 'time:', '0.145)', 'D_A:', '0.321', 'G_A:', '1.314', 'vgg:', '0.441', 'D_P:', '0.221', '\\n']\n",
      "['(epoch:', '66,', 'iters:', '1060,', 'time:', '0.110)', 'D_A:', '0.391', 'G_A:', '1.163', 'vgg:', '0.464', 'D_P:', '0.242', '\\n']\n",
      "['(epoch:', '67,', 'iters:', '1144,', 'time:', '0.109)', 'D_A:', '0.377', 'G_A:', '1.099', 'vgg:', '0.487', 'D_P:', '0.240', '\\n']\n",
      "['(epoch:', '68,', 'iters:', '1228,', 'time:', '0.159)', 'D_A:', '0.344', 'G_A:', '1.163', 'vgg:', '0.373', 'D_P:', '0.238', '\\n']\n",
      "['(epoch:', '69,', 'iters:', '1312,', 'time:', '0.109)', 'D_A:', '0.314', 'G_A:', '1.352', 'vgg:', '0.622', 'D_P:', '0.204', '\\n']\n",
      "['(epoch:', '70,', 'iters:', '1396,', 'time:', '0.109)', 'D_A:', '0.347', 'G_A:', '1.226', 'vgg:', '0.480', 'D_P:', '0.232', '\\n']\n",
      "['(epoch:', '71,', 'iters:', '1480,', 'time:', '0.151)', 'D_A:', '0.316', 'G_A:', '1.409', 'vgg:', '0.377', 'D_P:', '0.209', '\\n']\n",
      "['(epoch:', '73,', 'iters:', '548,', 'time:', '0.109)', 'D_A:', '0.303', 'G_A:', '1.362', 'vgg:', '0.438', 'D_P:', '0.236', '\\n']\n",
      "['(epoch:', '74,', 'iters:', '632,', 'time:', '0.109)', 'D_A:', '0.305', 'G_A:', '1.407', 'vgg:', '0.333', 'D_P:', '0.247', '\\n']\n",
      "['(epoch:', '75,', 'iters:', '716,', 'time:', '0.148)', 'D_A:', '0.351', 'G_A:', '1.354', 'vgg:', '0.487', 'D_P:', '0.214', '\\n']\n",
      "['(epoch:', '76,', 'iters:', '800,', 'time:', '0.109)', 'D_A:', '0.366', 'G_A:', '1.119', 'vgg:', '0.342', 'D_P:', '0.247', '\\n']\n",
      "['(epoch:', '77,', 'iters:', '884,', 'time:', '0.108)', 'D_A:', '0.323', 'G_A:', '1.321', 'vgg:', '0.295', 'D_P:', '0.209', '\\n']\n",
      "['(epoch:', '78,', 'iters:', '968,', 'time:', '0.149)', 'D_A:', '0.389', 'G_A:', '1.123', 'vgg:', '0.448', 'D_P:', '0.262', '\\n']\n",
      "['(epoch:', '79,', 'iters:', '1052,', 'time:', '0.109)', 'D_A:', '0.359', 'G_A:', '1.147', 'vgg:', '0.384', 'D_P:', '0.232', '\\n']\n",
      "['(epoch:', '80,', 'iters:', '1136,', 'time:', '0.109)', 'D_A:', '0.316', 'G_A:', '1.357', 'vgg:', '0.513', 'D_P:', '0.226', '\\n']\n",
      "['(epoch:', '81,', 'iters:', '1220,', 'time:', '0.154)', 'D_A:', '0.321', 'G_A:', '1.276', 'vgg:', '0.424', 'D_P:', '0.213', '\\n']\n",
      "['(epoch:', '82,', 'iters:', '1304,', 'time:', '0.108)', 'D_A:', '0.330', 'G_A:', '1.259', 'vgg:', '0.392', 'D_P:', '0.218', '\\n']\n",
      "['(epoch:', '83,', 'iters:', '1388,', 'time:', '0.109)', 'D_A:', '0.313', 'G_A:', '1.433', 'vgg:', '0.498', 'D_P:', '0.209', '\\n']\n",
      "['(epoch:', '84,', 'iters:', '1472,', 'time:', '0.149)', 'D_A:', '0.304', 'G_A:', '1.509', 'vgg:', '0.555', 'D_P:', '0.209', '\\n']\n",
      "['(epoch:', '85,', 'iters:', '1556,', 'time:', '0.109)', 'D_A:', '0.365', 'G_A:', '1.141', 'vgg:', '0.276', 'D_P:', '0.215', '\\n']\n",
      "['(epoch:', '87,', 'iters:', '624,', 'time:', '0.109)', 'D_A:', '0.356', 'G_A:', '1.145', 'vgg:', '0.575', 'D_P:', '0.251', '\\n']\n",
      "['(epoch:', '88,', 'iters:', '708,', 'time:', '0.158)', 'D_A:', '0.318', 'G_A:', '1.349', 'vgg:', '0.439', 'D_P:', '0.231', '\\n']\n",
      "['(epoch:', '89,', 'iters:', '792,', 'time:', '0.109)', 'D_A:', '0.333', 'G_A:', '1.568', 'vgg:', '0.385', 'D_P:', '0.232', '\\n']\n",
      "['(epoch:', '90,', 'iters:', '876,', 'time:', '0.109)', 'D_A:', '0.333', 'G_A:', '1.491', 'vgg:', '0.389', 'D_P:', '0.207', '\\n']\n",
      "['(epoch:', '91,', 'iters:', '960,', 'time:', '0.158)', 'D_A:', '0.339', 'G_A:', '1.386', 'vgg:', '0.398', 'D_P:', '0.236', '\\n']\n",
      "['(epoch:', '92,', 'iters:', '1044,', 'time:', '0.109)', 'D_A:', '0.360', 'G_A:', '1.198', 'vgg:', '0.538', 'D_P:', '0.225', '\\n']\n",
      "['(epoch:', '93,', 'iters:', '1128,', 'time:', '0.109)', 'D_A:', '0.303', 'G_A:', '1.404', 'vgg:', '0.522', 'D_P:', '0.231', '\\n']\n",
      "['(epoch:', '94,', 'iters:', '1212,', 'time:', '0.160)', 'D_A:', '0.351', 'G_A:', '1.194', 'vgg:', '0.494', 'D_P:', '0.243', '\\n']\n",
      "['(epoch:', '95,', 'iters:', '1296,', 'time:', '0.109)', 'D_A:', '0.324', 'G_A:', '1.335', 'vgg:', '0.413', 'D_P:', '0.233', '\\n']\n",
      "['(epoch:', '96,', 'iters:', '1380,', 'time:', '0.109)', 'D_A:', '0.358', 'G_A:', '1.321', 'vgg:', '0.523', 'D_P:', '0.238', '\\n']\n",
      "['(epoch:', '97,', 'iters:', '1464,', 'time:', '0.152)', 'D_A:', '0.342', 'G_A:', '1.164', 'vgg:', '0.363', 'D_P:', '0.241', '\\n']\n",
      "['(epoch:', '98,', 'iters:', '1548,', 'time:', '0.109)', 'D_A:', '0.358', 'G_A:', '1.152', 'vgg:', '0.368', 'D_P:', '0.244', '\\n']\n",
      "['(epoch:', '99,', 'iters:', '1632,', 'time:', '0.109)', 'D_A:', '0.324', 'G_A:', '1.548', 'vgg:', '0.484', 'D_P:', '0.216', '\\n']\n",
      "['(epoch:', '100,', 'iters:', '1716,', 'time:', '0.093)', 'D_A:', '0.293', 'G_A:', '1.614', 'vgg:', '0.422', 'D_P:', '0.213', '\\n']\n",
      "['(epoch:', '102,', 'iters:', '784,', 'time:', '0.109)', 'D_A:', '0.335', 'G_A:', '1.239', 'vgg:', '0.378', 'D_P:', '0.252', '\\n']\n",
      "['(epoch:', '103,', 'iters:', '868,', 'time:', '0.109)', 'D_A:', '0.311', 'G_A:', '1.502', 'vgg:', '0.408', 'D_P:', '0.232', '\\n']\n",
      "['(epoch:', '104,', 'iters:', '952,', 'time:', '0.158)', 'D_A:', '0.393', 'G_A:', '1.098', 'vgg:', '0.448', 'D_P:', '0.235', '\\n']\n",
      "['(epoch:', '105,', 'iters:', '1036,', 'time:', '0.108)', 'D_A:', '0.308', 'G_A:', '1.428', 'vgg:', '0.457', 'D_P:', '0.224', '\\n']\n",
      "['(epoch:', '106,', 'iters:', '1120,', 'time:', '0.109)', 'D_A:', '0.317', 'G_A:', '1.299', 'vgg:', '0.526', 'D_P:', '0.222', '\\n']\n",
      "['(epoch:', '107,', 'iters:', '1204,', 'time:', '0.154)', 'D_A:', '0.362', 'G_A:', '1.439', 'vgg:', '0.494', 'D_P:', '0.235', '\\n']\n",
      "['(epoch:', '108,', 'iters:', '1288,', 'time:', '0.109)', 'D_A:', '0.333', 'G_A:', '1.259', 'vgg:', '0.335', 'D_P:', '0.257', '\\n']\n",
      "['(epoch:', '109,', 'iters:', '1372,', 'time:', '0.109)', 'D_A:', '0.296', 'G_A:', '1.485', 'vgg:', '0.637', 'D_P:', '0.229', '\\n']\n",
      "['(epoch:', '110,', 'iters:', '1456,', 'time:', '0.154)', 'D_A:', '0.332', 'G_A:', '1.309', 'vgg:', '0.369', 'D_P:', '0.227', '\\n']\n",
      "['(epoch:', '111,', 'iters:', '1540,', 'time:', '0.108)', 'D_A:', '0.304', 'G_A:', '1.533', 'vgg:', '0.378', 'D_P:', '0.225', '\\n']\n",
      "['(epoch:', '112,', 'iters:', '1624,', 'time:', '0.109)', 'D_A:', '0.297', 'G_A:', '1.284', 'vgg:', '0.495', 'D_P:', '0.245', '\\n']\n",
      "['(epoch:', '113,', 'iters:', '1708,', 'time:', '0.154)', 'D_A:', '0.314', 'G_A:', '1.285', 'vgg:', '0.465', 'D_P:', '0.198', '\\n']\n",
      "['(epoch:', '114,', 'iters:', '1792,', 'time:', '0.109)', 'D_A:', '0.321', 'G_A:', '1.289', 'vgg:', '0.422', 'D_P:', '0.240', '\\n']\n",
      "['(epoch:', '116,', 'iters:', '860,', 'time:', '0.109)', 'D_A:', '0.329', 'G_A:', '1.327', 'vgg:', '0.344', 'D_P:', '0.272', '\\n']\n",
      "['(epoch:', '117,', 'iters:', '944,', 'time:', '0.146)', 'D_A:', '0.330', 'G_A:', '1.255', 'vgg:', '0.424', 'D_P:', '0.214', '\\n']\n",
      "['(epoch:', '118,', 'iters:', '1028,', 'time:', '0.109)', 'D_A:', '0.369', 'G_A:', '1.195', 'vgg:', '0.558', 'D_P:', '0.269', '\\n']\n",
      "['(epoch:', '119,', 'iters:', '1112,', 'time:', '0.109)', 'D_A:', '0.330', 'G_A:', '1.289', 'vgg:', '0.394', 'D_P:', '0.228', '\\n']\n",
      "['(epoch:', '120,', 'iters:', '1196,', 'time:', '0.154)', 'D_A:', '0.329', 'G_A:', '1.245', 'vgg:', '0.390', 'D_P:', '0.218', '\\n']\n",
      "['(epoch:', '121,', 'iters:', '1280,', 'time:', '0.109)', 'D_A:', '0.353', 'G_A:', '1.107', 'vgg:', '0.327', 'D_P:', '0.245', '\\n']\n",
      "['(epoch:', '122,', 'iters:', '1364,', 'time:', '0.109)', 'D_A:', '0.320', 'G_A:', '1.399', 'vgg:', '0.424', 'D_P:', '0.202', '\\n']\n",
      "['(epoch:', '123,', 'iters:', '1448,', 'time:', '0.152)', 'D_A:', '0.290', 'G_A:', '1.568', 'vgg:', '0.533', 'D_P:', '0.222', '\\n']\n",
      "['(epoch:', '124,', 'iters:', '1532,', 'time:', '0.109)', 'D_A:', '0.390', 'G_A:', '1.151', 'vgg:', '0.457', 'D_P:', '0.257', '\\n']\n",
      "['(epoch:', '125,', 'iters:', '1616,', 'time:', '0.110)', 'D_A:', '0.326', 'G_A:', '1.281', 'vgg:', '0.412', 'D_P:', '0.204', '\\n']\n",
      "['(epoch:', '126,', 'iters:', '1700,', 'time:', '0.157)', 'D_A:', '0.322', 'G_A:', '1.318', 'vgg:', '0.470', 'D_P:', '0.209', '\\n']\n",
      "['(epoch:', '127,', 'iters:', '1784,', 'time:', '0.109)', 'D_A:', '0.392', 'G_A:', '1.084', 'vgg:', '0.544', 'D_P:', '0.253', '\\n']\n",
      "['(epoch:', '128,', 'iters:', '1868,', 'time:', '0.109)', 'D_A:', '0.324', 'G_A:', '1.363', 'vgg:', '0.426', 'D_P:', '0.220', '\\n']\n",
      "['(epoch:', '130,', 'iters:', '936,', 'time:', '0.158)', 'D_A:', '0.281', 'G_A:', '1.678', 'vgg:', '0.489', 'D_P:', '0.183', '\\n']\n",
      "['(epoch:', '131,', 'iters:', '1020,', 'time:', '0.109)', 'D_A:', '0.331', 'G_A:', '1.260', 'vgg:', '0.512', 'D_P:', '0.263', '\\n']\n",
      "['(epoch:', '132,', 'iters:', '1104,', 'time:', '0.109)', 'D_A:', '0.314', 'G_A:', '1.342', 'vgg:', '0.420', 'D_P:', '0.226', '\\n']\n",
      "['(epoch:', '133,', 'iters:', '1188,', 'time:', '0.162)', 'D_A:', '0.294', 'G_A:', '1.489', 'vgg:', '0.355', 'D_P:', '0.211', '\\n']\n",
      "['(epoch:', '134,', 'iters:', '1272,', 'time:', '0.109)', 'D_A:', '0.309', 'G_A:', '1.678', 'vgg:', '0.435', 'D_P:', '0.212', '\\n']\n",
      "['(epoch:', '135,', 'iters:', '1356,', 'time:', '0.109)', 'D_A:', '0.321', 'G_A:', '1.270', 'vgg:', '0.372', 'D_P:', '0.224', '\\n']\n",
      "['(epoch:', '136,', 'iters:', '1440,', 'time:', '0.155)', 'D_A:', '0.319', 'G_A:', '1.352', 'vgg:', '0.464', 'D_P:', '0.225', '\\n']\n",
      "['(epoch:', '137,', 'iters:', '1524,', 'time:', '0.109)', 'D_A:', '0.304', 'G_A:', '1.453', 'vgg:', '0.401', 'D_P:', '0.212', '\\n']\n",
      "['(epoch:', '138,', 'iters:', '1608,', 'time:', '0.109)', 'D_A:', '0.301', 'G_A:', '1.438', 'vgg:', '0.496', 'D_P:', '0.222', '\\n']\n",
      "['(epoch:', '139,', 'iters:', '1692,', 'time:', '0.157)', 'D_A:', '0.324', 'G_A:', '1.291', 'vgg:', '0.388', 'D_P:', '0.264', '\\n']\n",
      "['(epoch:', '140,', 'iters:', '1776,', 'time:', '0.108)', 'D_A:', '0.316', 'G_A:', '1.312', 'vgg:', '0.367', 'D_P:', '0.202', '\\n']\n",
      "['(epoch:', '141,', 'iters:', '1860,', 'time:', '0.109)', 'D_A:', '0.297', 'G_A:', '1.419', 'vgg:', '0.367', 'D_P:', '0.226', '\\n']\n",
      "['(epoch:', '142,', 'iters:', '1944,', 'time:', '0.157)', 'D_A:', '0.321', 'G_A:', '1.474', 'vgg:', '0.503', 'D_P:', '0.225', '\\n']\n",
      "['(epoch:', '144,', 'iters:', '1012,', 'time:', '0.107)', 'D_A:', '0.325', 'G_A:', '1.485', 'vgg:', '0.631', 'D_P:', '0.232', '\\n']\n",
      "['(epoch:', '145,', 'iters:', '1096,', 'time:', '0.110)', 'D_A:', '0.320', 'G_A:', '1.334', 'vgg:', '0.435', 'D_P:', '0.263', '\\n']\n",
      "['(epoch:', '146,', 'iters:', '1180,', 'time:', '0.164)', 'D_A:', '0.309', 'G_A:', '1.467', 'vgg:', '0.503', 'D_P:', '0.201', '\\n']\n",
      "['(epoch:', '147,', 'iters:', '1264,', 'time:', '0.108)', 'D_A:', '0.350', 'G_A:', '1.140', 'vgg:', '0.370', 'D_P:', '0.226', '\\n']\n",
      "['(epoch:', '148,', 'iters:', '1348,', 'time:', '0.109)', 'D_A:', '0.310', 'G_A:', '1.370', 'vgg:', '0.537', 'D_P:', '0.241', '\\n']\n",
      "['(epoch:', '149,', 'iters:', '1432,', 'time:', '0.152)', 'D_A:', '0.334', 'G_A:', '1.263', 'vgg:', '0.377', 'D_P:', '0.211', '\\n']\n",
      "['(epoch:', '150,', 'iters:', '1516,', 'time:', '0.109)', 'D_A:', '0.299', 'G_A:', '1.474', 'vgg:', '0.420', 'D_P:', '0.223', '\\n']\n",
      "['(epoch:', '151,', 'iters:', '1600,', 'time:', '0.109)', 'D_A:', '0.349', 'G_A:', '1.206', 'vgg:', '0.548', 'D_P:', '0.260', '\\n']\n",
      "['(epoch:', '152,', 'iters:', '1684,', 'time:', '0.161)', 'D_A:', '0.307', 'G_A:', '1.434', 'vgg:', '0.481', 'D_P:', '0.248', '\\n']\n",
      "['(epoch:', '153,', 'iters:', '1768,', 'time:', '0.109)', 'D_A:', '0.313', 'G_A:', '1.316', 'vgg:', '0.394', 'D_P:', '0.200', '\\n']\n",
      "['(epoch:', '154,', 'iters:', '1852,', 'time:', '0.109)', 'D_A:', '0.300', 'G_A:', '1.528', 'vgg:', '0.429', 'D_P:', '0.194', '\\n']\n",
      "['(epoch:', '155,', 'iters:', '1936,', 'time:', '0.162)', 'D_A:', '0.326', 'G_A:', '1.271', 'vgg:', '0.424', 'D_P:', '0.227', '\\n']\n",
      "['(epoch:', '156,', 'iters:', '2020,', 'time:', '0.109)', 'D_A:', '0.312', 'G_A:', '1.328', 'vgg:', '0.357', 'D_P:', '0.241', '\\n']\n",
      "['(epoch:', '157,', 'iters:', '2104,', 'time:', '0.109)', 'D_A:', '0.302', 'G_A:', '1.426', 'vgg:', '0.500', 'D_P:', '0.214', '\\n']\n",
      "['(epoch:', '159,', 'iters:', '1172,', 'time:', '0.165)', 'D_A:', '0.313', 'G_A:', '1.381', 'vgg:', '0.424', 'D_P:', '0.209', '\\n']\n",
      "['(epoch:', '160,', 'iters:', '1256,', 'time:', '0.109)', 'D_A:', '0.344', 'G_A:', '1.228', 'vgg:', '0.471', 'D_P:', '0.228', '\\n']\n",
      "['(epoch:', '161,', 'iters:', '1340,', 'time:', '0.109)', 'D_A:', '0.322', 'G_A:', '1.246', 'vgg:', '0.402', 'D_P:', '0.238', '\\n']\n",
      "['(epoch:', '162,', 'iters:', '1424,', 'time:', '0.163)', 'D_A:', '0.297', 'G_A:', '1.411', 'vgg:', '0.411', 'D_P:', '0.237', '\\n']\n",
      "['(epoch:', '163,', 'iters:', '1508,', 'time:', '0.108)', 'D_A:', '0.293', 'G_A:', '1.505', 'vgg:', '0.499', 'D_P:', '0.214', '\\n']\n",
      "['(epoch:', '164,', 'iters:', '1592,', 'time:', '0.109)', 'D_A:', '0.309', 'G_A:', '1.412', 'vgg:', '0.456', 'D_P:', '0.202', '\\n']\n",
      "['(epoch:', '165,', 'iters:', '1676,', 'time:', '0.151)', 'D_A:', '0.296', 'G_A:', '1.468', 'vgg:', '0.432', 'D_P:', '0.202', '\\n']\n",
      "['(epoch:', '166,', 'iters:', '1760,', 'time:', '0.109)', 'D_A:', '0.337', 'G_A:', '1.203', 'vgg:', '0.463', 'D_P:', '0.217', '\\n']\n",
      "['(epoch:', '167,', 'iters:', '1844,', 'time:', '0.109)', 'D_A:', '0.342', 'G_A:', '1.224', 'vgg:', '0.311', 'D_P:', '0.241', '\\n']\n",
      "['(epoch:', '168,', 'iters:', '1928,', 'time:', '0.157)', 'D_A:', '0.297', 'G_A:', '1.586', 'vgg:', '0.463', 'D_P:', '0.221', '\\n']\n",
      "['(epoch:', '169,', 'iters:', '2012,', 'time:', '0.108)', 'D_A:', '0.294', 'G_A:', '1.390', 'vgg:', '0.542', 'D_P:', '0.245', '\\n']\n",
      "['(epoch:', '170,', 'iters:', '2096,', 'time:', '0.109)', 'D_A:', '0.290', 'G_A:', '1.694', 'vgg:', '0.451', 'D_P:', '0.199', '\\n']\n",
      "['(epoch:', '171,', 'iters:', '2180,', 'time:', '0.154)', 'D_A:', '0.287', 'G_A:', '1.569', 'vgg:', '0.546', 'D_P:', '0.211', '\\n']\n",
      "['(epoch:', '173,', 'iters:', '1248,', 'time:', '0.109)', 'D_A:', '0.282', 'G_A:', '1.531', 'vgg:', '0.421', 'D_P:', '0.206', '\\n']\n",
      "['(epoch:', '174,', 'iters:', '1332,', 'time:', '0.109)', 'D_A:', '0.301', 'G_A:', '1.520', 'vgg:', '0.442', 'D_P:', '0.198', '\\n']\n",
      "['(epoch:', '175,', 'iters:', '1416,', 'time:', '0.164)', 'D_A:', '0.283', 'G_A:', '1.681', 'vgg:', '0.344', 'D_P:', '0.206', '\\n']\n",
      "['(epoch:', '176,', 'iters:', '1500,', 'time:', '0.109)', 'D_A:', '0.292', 'G_A:', '1.503', 'vgg:', '0.472', 'D_P:', '0.201', '\\n']\n",
      "['(epoch:', '177,', 'iters:', '1584,', 'time:', '0.109)', 'D_A:', '0.338', 'G_A:', '1.201', 'vgg:', '0.409', 'D_P:', '0.220', '\\n']\n",
      "['(epoch:', '178,', 'iters:', '1668,', 'time:', '0.166)', 'D_A:', '0.299', 'G_A:', '1.470', 'vgg:', '0.351', 'D_P:', '0.191', '\\n']\n",
      "['(epoch:', '179,', 'iters:', '1752,', 'time:', '0.109)', 'D_A:', '0.300', 'G_A:', '1.467', 'vgg:', '0.408', 'D_P:', '0.213', '\\n']\n",
      "['(epoch:', '180,', 'iters:', '1836,', 'time:', '0.109)', 'D_A:', '0.303', 'G_A:', '1.430', 'vgg:', '0.333', 'D_P:', '0.212', '\\n']\n",
      "['(epoch:', '181,', 'iters:', '1920,', 'time:', '0.160)', 'D_A:', '0.286', 'G_A:', '1.530', 'vgg:', '0.406', 'D_P:', '0.185', '\\n']\n",
      "['(epoch:', '182,', 'iters:', '2004,', 'time:', '0.110)', 'D_A:', '0.295', 'G_A:', '1.420', 'vgg:', '0.421', 'D_P:', '0.207', '\\n']\n",
      "['(epoch:', '183,', 'iters:', '2088,', 'time:', '0.109)', 'D_A:', '0.301', 'G_A:', '1.386', 'vgg:', '0.340', 'D_P:', '0.214', '\\n']\n",
      "['(epoch:', '184,', 'iters:', '2172,', 'time:', '0.163)', 'D_A:', '0.284', 'G_A:', '1.503', 'vgg:', '0.527', 'D_P:', '0.191', '\\n']\n",
      "['(epoch:', '185,', 'iters:', '2256,', 'time:', '0.109)', 'D_A:', '0.322', 'G_A:', '1.349', 'vgg:', '0.595', 'D_P:', '0.249', '\\n']\n",
      "['(epoch:', '187,', 'iters:', '1324,', 'time:', '0.108)', 'D_A:', '0.290', 'G_A:', '1.516', 'vgg:', '0.424', 'D_P:', '0.227', '\\n']\n",
      "['(epoch:', '188,', 'iters:', '1408,', 'time:', '0.164)', 'D_A:', '0.282', 'G_A:', '1.678', 'vgg:', '0.373', 'D_P:', '0.190', '\\n']\n",
      "['(epoch:', '189,', 'iters:', '1492,', 'time:', '0.109)', 'D_A:', '0.296', 'G_A:', '1.380', 'vgg:', '0.373', 'D_P:', '0.232', '\\n']\n",
      "['(epoch:', '190,', 'iters:', '1576,', 'time:', '0.109)', 'D_A:', '0.310', 'G_A:', '1.398', 'vgg:', '0.361', 'D_P:', '0.230', '\\n']\n",
      "['(epoch:', '191,', 'iters:', '1660,', 'time:', '0.167)', 'D_A:', '0.287', 'G_A:', '1.477', 'vgg:', '0.355', 'D_P:', '0.191', '\\n']\n",
      "['(epoch:', '192,', 'iters:', '1744,', 'time:', '0.109)', 'D_A:', '0.312', 'G_A:', '1.416', 'vgg:', '0.340', 'D_P:', '0.221', '\\n']\n",
      "['(epoch:', '193,', 'iters:', '1828,', 'time:', '0.110)', 'D_A:', '0.288', 'G_A:', '1.387', 'vgg:', '0.504', 'D_P:', '0.242', '\\n']\n",
      "['(epoch:', '194,', 'iters:', '1912,', 'time:', '0.163)', 'D_A:', '0.324', 'G_A:', '1.256', 'vgg:', '0.380', 'D_P:', '0.230', '\\n']\n",
      "['(epoch:', '195,', 'iters:', '1996,', 'time:', '0.109)', 'D_A:', '0.297', 'G_A:', '1.430', 'vgg:', '0.565', 'D_P:', '0.238', '\\n']\n",
      "['(epoch:', '196,', 'iters:', '2080,', 'time:', '0.109)', 'D_A:', '0.305', 'G_A:', '1.361', 'vgg:', '0.430', 'D_P:', '0.223', '\\n']\n",
      "['(epoch:', '197,', 'iters:', '2164,', 'time:', '0.167)', 'D_A:', '0.277', 'G_A:', '1.513', 'vgg:', '0.687', 'D_P:', '0.221', '\\n']\n",
      "['(epoch:', '198,', 'iters:', '2248,', 'time:', '0.109)', 'D_A:', '0.297', 'G_A:', '1.310', 'vgg:', '0.348', 'D_P:', '0.224', '\\n']\n",
      "['(epoch:', '199,', 'iters:', '2332,', 'time:', '0.109)', 'D_A:', '0.300', 'G_A:', '1.418', 'vgg:', '0.435', 'D_P:', '0.209', '\\n']\n",
      "['(epoch:', '200,', 'iters:', '2416,', 'time:', '0.098)', 'D_A:', '0.290', 'G_A:', '1.384', 'vgg:', '0.326', 'D_P:', '0.220', '\\n']\n"
     ]
    }
   ],
   "source": [
    "file_path = 'loss/loss_log.txt'\n",
    "with open(file_path) as file:\n",
    "    for line in file:\n",
    "        if line[:2] == '(e':\n",
    "            line_splitted = line.split(' ')\n",
    "            # print(line_splitted)\n",
    "            g_a.append(float(line_splitted[line_splitted.index('G_A:') + 1]))\n",
    "            vgg.append(float(line_splitted[line_splitted.index('vgg:') + 1]))\n",
    "            d_a.append(float(line_splitted[line_splitted.index('D_A:') + 1]))\n",
    "            d_p.append(float(line_splitted[line_splitted.index('D_P:') + 1]))\n",
    "            # epoch.append(float(line_splitted[line_splitted.index('(epoch:') + 1]))"
   ]
  },
  {
   "cell_type": "code",
   "execution_count": 57,
   "id": "30ee09bb-8bf7-4132-93ce-c17f64fcfa90",
   "metadata": {
    "tags": []
   },
   "outputs": [],
   "source": [
    "import numpy as np\n",
    "def running_window(l):\n",
    "    new_list = []\n",
    "    n=20\n",
    "    ret = np.cumsum(l, dtype=float)\n",
    "    ret[n:] = ret[n:] - ret[:-n]\n",
    "    return ret[n - 1:] / n\n",
    "    \n",
    "g_a_s = running_window(g_a)\n",
    "vgg_s = running_window(vgg)\n",
    "d_a_s = running_window(d_a)\n",
    "d_p_s = running_window(d_p)"
   ]
  },
  {
   "cell_type": "code",
   "execution_count": 58,
   "id": "90c5ffcf-762c-4558-84bb-aea0382fd0e0",
   "metadata": {},
   "outputs": [],
   "source": [
    "import matplotlib.pyplot as plt"
   ]
  },
  {
   "cell_type": "code",
   "execution_count": 59,
   "id": "e08af005-a202-466a-9587-e59876d60e69",
   "metadata": {},
   "outputs": [
    {
     "data": {
      "text/plain": [
       "<matplotlib.legend.Legend at 0x7f8b6ebb90d0>"
      ]
     },
     "execution_count": 59,
     "metadata": {},
     "output_type": "execute_result"
    },
    {
     "data": {
      "image/png": "[encoded data removed]",
      "text/plain": [
       "<Figure size 432x288 with 1 Axes>"
      ]
     },
     "metadata": {
      "needs_background": "light"
     },
     "output_type": "display_data"
    }
   ],
   "source": [
    "fig, ax = plt.subplots()\n",
    "\n",
    "# ax.plot(g_a)\n",
    "ax.plot(g_a_s)\n",
    "ax.plot(d_a_s)\n",
    "ax.plot(d_p_s)\n",
    "ax.plot(vgg_s)\n",
    "\n",
    "ax.legend(['G_A', 'D_A', 'D_P', 'vgg'])"
   ]
  },
  {
   "cell_type": "code",
   "execution_count": 60,
   "id": "3660e8f3-47c0-452f-8bd4-aea8b34090de",
   "metadata": {},
   "outputs": [
    {
     "data": {
      "text/plain": [
       "1.4270999999999945"
      ]
     },
     "execution_count": 60,
     "metadata": {},
     "output_type": "execute_result"
    }
   ],
   "source": [
    "g_a_s[-1]"
   ]
  },
  {
   "cell_type": "code",
   "execution_count": null,
   "id": "2ed5fdda-d80a-48cc-a9b1-b300059d9620",
   "metadata": {},
   "outputs": [],
   "source": []
  }
 ],
 "metadata": {
  "kernelspec": {
   "display_name": "Python 3",
   "language": "python",
   "name": "python3"
  },
  "language_info": {
   "codemirror_mode": {
    "name": "ipython",
    "version": 3
   },
   "file_extension": ".py",
   "mimetype": "text/x-python",
   "name": "python",
   "nbconvert_exporter": "python",
   "pygments_lexer": "ipython3",
   "version": "3.8.12"
  }
 },
 "nbformat": 4,
 "nbformat_minor": 5
}
